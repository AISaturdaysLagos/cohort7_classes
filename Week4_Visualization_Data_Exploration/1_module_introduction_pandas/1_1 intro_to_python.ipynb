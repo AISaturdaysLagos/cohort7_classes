{
 "cells": [
  {
   "cell_type": "markdown",
   "metadata": {
    "toc": true
   },
   "source": [
    "<h1>Table of Contents<span class=\"tocSkip\"></span></h1>\n",
    "<div class=\"toc\"><ul class=\"toc-item\"><li><span><a href=\"#Intro-To-Python\" data-toc-modified-id=\"Intro-To-Python-1\">Intro To Python</a></span></li><li><span><a href=\"#1.-Basic-Data-Types:-Numbers,-Booleans,-and-Strings\" data-toc-modified-id=\"1.-Basic-Data-Types:-Numbers,-Booleans,-and-Strings-2\">1. Basic Data Types: Numbers, Booleans, and Strings</a></span><ul class=\"toc-item\"><li><span><a href=\"#1.1-Numbers\" data-toc-modified-id=\"1.1-Numbers-2.1\">1.1 Numbers</a></span><ul class=\"toc-item\"><li><span><a href=\"#Mathematical-Operators:-+,--,-,-/,-*\" data-toc-modified-id=\"Mathematical-Operators:-+,--,-,-/,-*-2.1.1\">Mathematical Operators: +, -, <em>, /, *</em></a></span></li><li><span><a href=\"#Shorthand-mathematical-operators\" data-toc-modified-id=\"Shorthand-mathematical-operators-2.1.2\">Shorthand mathematical operators</a></span></li></ul></li><li><span><a href=\"#1.2-Booleans-&amp;-Logic-Operators\" data-toc-modified-id=\"1.2-Booleans-&amp;-Logic-Operators-2.2\">1.2 Booleans &amp; Logic Operators</a></span><ul class=\"toc-item\"><li><span><a href=\"#Equality-operators\" data-toc-modified-id=\"Equality-operators-2.2.1\">Equality operators</a></span></li></ul></li><li><span><a href=\"#1.3-Strings\" data-toc-modified-id=\"1.3-Strings-2.3\">1.3 Strings</a></span><ul class=\"toc-item\"><li><span><a href=\"#String-methods\" data-toc-modified-id=\"String-methods-2.3.1\">String methods</a></span></li></ul></li></ul></li><li><span><a href=\"#2.-Container-Data-Types\" data-toc-modified-id=\"2.-Container-Data-Types-3\">2. Container Data Types</a></span><ul class=\"toc-item\"><li><span><a href=\"#2.1-Lists\" data-toc-modified-id=\"2.1-Lists-3.1\">2.1 Lists</a></span></li><li><span><a href=\"#2.1.5-Tuples\" data-toc-modified-id=\"2.1.5-Tuples-3.2\">2.1.5 Tuples</a></span></li><li><span><a href=\"#2.2-Dictionaries\" data-toc-modified-id=\"2.2-Dictionaries-3.3\">2.2 Dictionaries</a></span></li><li><span><a href=\"#2.3-Sets\" data-toc-modified-id=\"2.3-Sets-3.4\">2.3 Sets</a></span></li></ul></li><li><span><a href=\"#3.-Functions\" data-toc-modified-id=\"3.-Functions-4\">3. Functions</a></span></li><li><span><a href=\"#4.-Control-Flow\" data-toc-modified-id=\"4.-Control-Flow-5\">4. Control Flow</a></span><ul class=\"toc-item\"><li><span><a href=\"#4.1-If/Else-If/Else\" data-toc-modified-id=\"4.1-If/Else-If/Else-5.1\">4.1 If/Else If/Else</a></span></li><li><span><a href=\"#4.2-Loops\" data-toc-modified-id=\"4.2-Loops-5.2\">4.2 Loops</a></span><ul class=\"toc-item\"><li><span><a href=\"#4.2.1-'while'-loops\" data-toc-modified-id=\"4.2.1-'while'-loops-5.2.1\">4.2.1 'while' loops</a></span></li><li><span><a href=\"#4.2.2-'for'-loops\" data-toc-modified-id=\"4.2.2-'for'-loops-5.2.2\">4.2.2 'for' loops</a></span></li></ul></li></ul></li></ul></div>"
   ]
  },
  {
   "cell_type": "markdown",
   "metadata": {},
   "source": [
    "Intro To Python\n",
    "=====\n",
    "\n",
    "In this notebook, we will explore basic Python:\n",
    "\n",
    "- data types, including dictionaries\n",
    "- functions \n",
    "- loops"
   ]
  },
  {
   "cell_type": "markdown",
   "metadata": {},
   "source": [
    "Please note that we are using Python 3.    \n",
    "(__NOT__ Python 2! Python 2 has some different functions and syntax)"
   ]
  },
  {
   "cell_type": "code",
   "execution_count": 1,
   "metadata": {},
   "outputs": [
    {
     "name": "stdout",
     "output_type": "stream",
     "text": [
      "3\n"
     ]
    }
   ],
   "source": [
    "# Let's make sure we are using Python 3\n",
    "import sys\n",
    "print(sys.version[0])"
   ]
  },
  {
   "cell_type": "markdown",
   "metadata": {},
   "source": [
    "# 1. Basic Data Types: Numbers, Booleans, and Strings\n",
    "## 1.1 Numbers"
   ]
  },
  {
   "cell_type": "code",
   "execution_count": 2,
   "metadata": {},
   "outputs": [
    {
     "name": "stdout",
     "output_type": "stream",
     "text": [
      "<class 'int'>\n",
      "5\n"
     ]
    }
   ],
   "source": [
    "a = 5\n",
    "\n",
    "# Note: use the `type()` function to get the type of a variable\n",
    "# Numbers can be integers ('int'), such as 3, 5 and 3049, or floats\n",
    "# ('float'), such as 2.5, 3.1, and 2.34938493\n",
    "print(type(a))\n",
    "print(a)"
   ]
  },
  {
   "cell_type": "markdown",
   "metadata": {},
   "source": [
    "### Mathematical Operators: +, -, *, /, **\n",
    "Mathematical operators allow you to perform math operations on numbers in Python."
   ]
  },
  {
   "cell_type": "code",
   "execution_count": 3,
   "metadata": {},
   "outputs": [
    {
     "name": "stdout",
     "output_type": "stream",
     "text": [
      "6\n",
      "4\n",
      "10\n",
      "2.5\n",
      "25\n"
     ]
    }
   ],
   "source": [
    "b = a + 1\n",
    "print(b)\n",
    "\n",
    "c = a - 1\n",
    "print(c)\n",
    "\n",
    "d = a * 2\n",
    "print(d)\n",
    "\n",
    "e = a / 2\n",
    "print(e)\n",
    "\n",
    "# Note: ** is the exponention operator\n",
    "f = a ** 2\n",
    "print(f)"
   ]
  },
  {
   "cell_type": "markdown",
   "metadata": {},
   "source": [
    "### Shorthand mathematical operators\n",
    "\n",
    "Python has the ability to have a value be added to itself, in shorthand. This is called a \"compound assignment operator\"\n",
    "\n",
    "The addition version of this is:\n",
    "\n",
    "* `a += 1` is shorthand for `a = a + 1`\n"
   ]
  },
  {
   "cell_type": "code",
   "execution_count": 4,
   "metadata": {},
   "outputs": [
    {
     "name": "stdout",
     "output_type": "stream",
     "text": [
      "6\n"
     ]
    }
   ],
   "source": [
    "a += 1\n",
    "print(a)"
   ]
  },
  {
   "cell_type": "markdown",
   "metadata": {},
   "source": [
    "The multiplication version of a compound assignment operator is:"
   ]
  },
  {
   "cell_type": "code",
   "execution_count": 5,
   "metadata": {},
   "outputs": [
    {
     "name": "stdout",
     "output_type": "stream",
     "text": [
      "12\n"
     ]
    }
   ],
   "source": [
    "a *= 2\n",
    "print(a)"
   ]
  },
  {
   "cell_type": "markdown",
   "metadata": {},
   "source": [
    "## 1.2 Booleans & Logic Operators"
   ]
  },
  {
   "cell_type": "code",
   "execution_count": 6,
   "metadata": {},
   "outputs": [
    {
     "name": "stdout",
     "output_type": "stream",
     "text": [
      "<class 'bool'>\n"
     ]
    }
   ],
   "source": [
    "im_true = True\n",
    "im_false = False\n",
    "\n",
    "print(type(im_true))"
   ]
  },
  {
   "cell_type": "markdown",
   "metadata": {},
   "source": [
    "### Equality operators\n",
    "Equality operators (== and !=) allow you to compare the values of variables on the left and right hand side."
   ]
  },
  {
   "cell_type": "code",
   "execution_count": 7,
   "metadata": {},
   "outputs": [
    {
     "name": "stdout",
     "output_type": "stream",
     "text": [
      "False\n",
      "True\n"
     ]
    }
   ],
   "source": [
    "print(im_true == im_false) # Equality operator\n",
    "print(im_true != im_false)"
   ]
  },
  {
   "cell_type": "markdown",
   "metadata": {},
   "source": [
    "The `and` operator requires that the variables on each side of the operator are equal to true."
   ]
  },
  {
   "cell_type": "code",
   "execution_count": 8,
   "metadata": {},
   "outputs": [
    {
     "name": "stdout",
     "output_type": "stream",
     "text": [
      "False\n"
     ]
    }
   ],
   "source": [
    "print(im_true and im_false)"
   ]
  },
  {
   "cell_type": "markdown",
   "metadata": {},
   "source": [
    "The `or` operator only requires the ONE of the variables on each side of the operator to be true."
   ]
  },
  {
   "cell_type": "code",
   "execution_count": 9,
   "metadata": {},
   "outputs": [
    {
     "name": "stdout",
     "output_type": "stream",
     "text": [
      "True\n"
     ]
    }
   ],
   "source": [
    "print(im_true or im_false)"
   ]
  },
  {
   "cell_type": "markdown",
   "metadata": {},
   "source": [
    "## 1.3 Strings\n",
    "You can use single or double quotes for strings."
   ]
  },
  {
   "cell_type": "code",
   "execution_count": 10,
   "metadata": {},
   "outputs": [
    {
     "name": "stdout",
     "output_type": "stream",
     "text": [
      "delta analytics\n"
     ]
    }
   ],
   "source": [
    "my_string = 'delta'\n",
    "my_other_string = \"analytics\"\n",
    "print(my_string, my_other_string)"
   ]
  },
  {
   "cell_type": "markdown",
   "metadata": {},
   "source": [
    "### String methods\n",
    "Concatenating strings:"
   ]
  },
  {
   "cell_type": "code",
   "execution_count": 11,
   "metadata": {},
   "outputs": [
    {
     "name": "stdout",
     "output_type": "stream",
     "text": [
      "delta analytics\n"
     ]
    }
   ],
   "source": [
    "another_string = '' + my_string + \" \" + my_other_string\n",
    "print(another_string)"
   ]
  },
  {
   "cell_type": "markdown",
   "metadata": {},
   "source": [
    "Get the length of the string:"
   ]
  },
  {
   "cell_type": "code",
   "execution_count": 12,
   "metadata": {},
   "outputs": [
    {
     "name": "stdout",
     "output_type": "stream",
     "text": [
      "15\n"
     ]
    }
   ],
   "source": [
    "print(len(another_string))"
   ]
  },
  {
   "cell_type": "markdown",
   "metadata": {},
   "source": [
    "However, there are more ways to work with strings as well! Python has a list of built-in string functions such as `find()`, `startswith()` and `join()`. Check out [here for more information](https://docs.python.org/2/library/string.html)!"
   ]
  },
  {
   "cell_type": "markdown",
   "metadata": {},
   "source": [
    "# 2. Container Data Types"
   ]
  },
  {
   "cell_type": "markdown",
   "metadata": {},
   "source": [
    "## 2.1 Lists\n",
    "A Python `list` stores multiple elements, which can be different types"
   ]
  },
  {
   "cell_type": "code",
   "execution_count": 13,
   "metadata": {},
   "outputs": [
    {
     "name": "stdout",
     "output_type": "stream",
     "text": [
      "['a', 'b', 'c', 3485]\n"
     ]
    }
   ],
   "source": [
    "my_list = ['a', 'b', 'c', 3485]\n",
    "print(my_list)"
   ]
  },
  {
   "cell_type": "markdown",
   "metadata": {},
   "source": [
    "You can access an element in a list with the following syntax:\n",
    "Note: the first element in a list has an index of zero."
   ]
  },
  {
   "cell_type": "code",
   "execution_count": 14,
   "metadata": {},
   "outputs": [
    {
     "name": "stdout",
     "output_type": "stream",
     "text": [
      "c\n",
      "a\n"
     ]
    }
   ],
   "source": [
    "print(my_list[2])\n",
    "print(my_list[0])"
   ]
  },
  {
   "cell_type": "markdown",
   "metadata": {},
   "source": [
    "Reassigning elements in a list:"
   ]
  },
  {
   "cell_type": "code",
   "execution_count": 15,
   "metadata": {},
   "outputs": [
    {
     "name": "stdout",
     "output_type": "stream",
     "text": [
      "['delta', 'b', 'c', 3485]\n"
     ]
    }
   ],
   "source": [
    "my_list[0] = 'delta'\n",
    "print(my_list)"
   ]
  },
  {
   "cell_type": "markdown",
   "metadata": {},
   "source": [
    "Adding/removing elements from a list:"
   ]
  },
  {
   "cell_type": "code",
   "execution_count": 16,
   "metadata": {},
   "outputs": [
    {
     "name": "stdout",
     "output_type": "stream",
     "text": [
      "['delta', 'b', 'c', 3485, 'hello']\n",
      "['delta', 'b', 'c', 3485]\n"
     ]
    }
   ],
   "source": [
    "my_list.append('hello')\n",
    "print(my_list)\n",
    "\n",
    "my_list.pop()\n",
    "print(my_list)"
   ]
  },
  {
   "cell_type": "markdown",
   "metadata": {},
   "source": [
    "Accessing multiple elements in a list:"
   ]
  },
  {
   "cell_type": "code",
   "execution_count": 17,
   "metadata": {},
   "outputs": [
    {
     "name": "stdout",
     "output_type": "stream",
     "text": [
      "['delta', 'b']\n",
      "['c', 3485]\n",
      "['delta', 'b']\n"
     ]
    }
   ],
   "source": [
    "print(my_list[0:2]) # Access elements in index 0, 1 and 2\n",
    "print(my_list[2:]) # Access elements from index 2 to the end\n",
    "print(my_list[:2]) # Access elements from the beginning to index 2"
   ]
  },
  {
   "cell_type": "markdown",
   "metadata": {},
   "source": [
    "And of course, the learning may never end! There are more ways to work with lists through built-in string functions as well! (e.g. `count()`, `sort()` and `copy()`.) \n",
    "\n",
    "For anything on lists and more, we typically like to google the information. Some great resources are like Python's very own dedicated Docs website, [here](https://docs.python.org/3/tutorial/datastructures.html)!"
   ]
  },
  {
   "cell_type": "markdown",
   "metadata": {},
   "source": [
    "## 2.1.5 Tuples"
   ]
  },
  {
   "cell_type": "markdown",
   "metadata": {},
   "source": [
    "An _intermission_, there is another Python native object type called **\"Tuples\"**. We won't cover it here, but Tuples are like Lists, but have the following differences:\n",
    "\n",
    "* Lists can have different element lengths, while Tuples are fixed\n",
    "\n",
    "* Lists are in brackets `[]`, tuples is shown by parentheses `()` .\n",
    "* List have a mutable nature, tuple have a immutable nature.\n",
    "* List have more functionality than tuples"
   ]
  },
  {
   "cell_type": "markdown",
   "metadata": {},
   "source": [
    "## 2.2 Dictionaries\n",
    "Dictionaries hold key/value pairs and are useful for storing information."
   ]
  },
  {
   "cell_type": "code",
   "execution_count": 18,
   "metadata": {},
   "outputs": [],
   "source": [
    "my_dict = { 'key_one': 'value_one', 'name': 'mike' }"
   ]
  },
  {
   "cell_type": "markdown",
   "metadata": {},
   "source": [
    "Access a value from a dictionary by a key:"
   ]
  },
  {
   "cell_type": "code",
   "execution_count": 19,
   "metadata": {},
   "outputs": [
    {
     "name": "stdout",
     "output_type": "stream",
     "text": [
      "value_one\n",
      "mike\n"
     ]
    }
   ],
   "source": [
    "print(my_dict['key_one'])\n",
    "print(my_dict['name'])"
   ]
  },
  {
   "cell_type": "markdown",
   "metadata": {},
   "source": [
    "Looping over values of a dictionary:"
   ]
  },
  {
   "cell_type": "code",
   "execution_count": 20,
   "metadata": {},
   "outputs": [
    {
     "name": "stdout",
     "output_type": "stream",
     "text": [
      "The key is key_one\n",
      "The key is name\n"
     ]
    }
   ],
   "source": [
    "for key in my_dict:\n",
    "    print(\"The key is \" + key)"
   ]
  },
  {
   "cell_type": "code",
   "execution_count": 21,
   "metadata": {},
   "outputs": [
    {
     "name": "stdout",
     "output_type": "stream",
     "text": [
      "The key is key_one, and the value is value_one\n",
      "The key is name, and the value is mike\n"
     ]
    }
   ],
   "source": [
    "for key, value in my_dict.items():\n",
    "    print(\"The key is \" + key + \", and the value is \" + value)"
   ]
  },
  {
   "cell_type": "markdown",
   "metadata": {},
   "source": [
    "## 2.3 Sets\n",
    "Sets are similar to lists, but can only contain distinct values."
   ]
  },
  {
   "cell_type": "code",
   "execution_count": 22,
   "metadata": {},
   "outputs": [
    {
     "name": "stdout",
     "output_type": "stream",
     "text": [
      "{1, 2, 3, 'hello'}\n"
     ]
    }
   ],
   "source": [
    "my_set = {1, 2, 3, 'hello'}\n",
    "print(my_set)"
   ]
  },
  {
   "cell_type": "markdown",
   "metadata": {},
   "source": [
    "When defining a set with the same value present multiple times, only one element will be added to the set. For example:"
   ]
  },
  {
   "cell_type": "code",
   "execution_count": 23,
   "metadata": {},
   "outputs": [
    {
     "name": "stdout",
     "output_type": "stream",
     "text": [
      "{1, 2, 3, 'hello'}\n"
     ]
    }
   ],
   "source": [
    "multiple = {1, 2, 2, 2, 2, 2, 3, 'hello'}\n",
    "print(multiple) # This will return {1, 2, 3, 'hello'}"
   ]
  },
  {
   "cell_type": "markdown",
   "metadata": {},
   "source": [
    "# 3. Functions\n",
    "A function is a block of reusable code that performs a certain action. Once you've defined a function, you can use it anywhere in your code!"
   ]
  },
  {
   "cell_type": "markdown",
   "metadata": {},
   "source": [
    "Defining a function:"
   ]
  },
  {
   "cell_type": "code",
   "execution_count": 24,
   "metadata": {},
   "outputs": [],
   "source": [
    "def am_i_happy(happiness_level):\n",
    "    if happiness_level >= 10:\n",
    "        return \"You're very happy.\"\n",
    "    elif happiness_level >= 5:\n",
    "        return \"You're happy.\"\n",
    "    else:\n",
    "        return \"You're not happy.\""
   ]
  },
  {
   "cell_type": "markdown",
   "metadata": {},
   "source": [
    "Calling a function:"
   ]
  },
  {
   "cell_type": "code",
   "execution_count": 25,
   "metadata": {},
   "outputs": [
    {
     "name": "stdout",
     "output_type": "stream",
     "text": [
      "You're not happy.\n"
     ]
    }
   ],
   "source": [
    "print(am_i_happy(0))"
   ]
  },
  {
   "cell_type": "code",
   "execution_count": 26,
   "metadata": {},
   "outputs": [
    {
     "name": "stdout",
     "output_type": "stream",
     "text": [
      "You're happy.\n"
     ]
    }
   ],
   "source": [
    "print(am_i_happy(5))"
   ]
  },
  {
   "cell_type": "markdown",
   "metadata": {},
   "source": [
    "# 4. Control Flow\n",
    "## 4.1 If/Else If/Else"
   ]
  },
  {
   "cell_type": "code",
   "execution_count": 27,
   "metadata": {},
   "outputs": [
    {
     "name": "stdout",
     "output_type": "stream",
     "text": [
      "Take a nap\n"
     ]
    }
   ],
   "source": [
    "sleepy = True\n",
    "hungry = False\n",
    "\n",
    "if sleepy and hungry:\n",
    "    print(\"Eat a snack and take a nap.\")\n",
    "elif sleepy and not hungry:\n",
    "    print(\"Take a nap\")\n",
    "elif hungry and not sleepy:\n",
    "    print(\"Eat a snack\")\n",
    "else:\n",
    "    print(\"Go on with your day\")"
   ]
  },
  {
   "cell_type": "markdown",
   "metadata": {},
   "source": [
    "## 4.2 Loops\n",
    "### 4.2.1 'while' loops"
   ]
  },
  {
   "cell_type": "code",
   "execution_count": 28,
   "metadata": {},
   "outputs": [
    {
     "name": "stdout",
     "output_type": "stream",
     "text": [
      "You have counted to 0\n",
      "You have counted to 1\n",
      "You have counted to 2\n",
      "You have counted to 3\n",
      "You have counted to 4\n",
      "You have counted to 5\n",
      "You have counted to 6\n",
      "You have counted to 7\n",
      "You have counted to 8\n",
      "You have counted to 9\n",
      "You're finished counting\n"
     ]
    }
   ],
   "source": [
    "counter = 0\n",
    "while (counter < 10):\n",
    "    print(\"You have counted to\", counter)\n",
    "    counter = counter + 1 # Increment the counter\n",
    "    \n",
    "print(\"You're finished counting\")"
   ]
  },
  {
   "cell_type": "markdown",
   "metadata": {},
   "source": [
    "### 4.2.2 'for' loops\n",
    "Loop over a list:"
   ]
  },
  {
   "cell_type": "code",
   "execution_count": 29,
   "metadata": {},
   "outputs": [
    {
     "name": "stdout",
     "output_type": "stream",
     "text": [
      "cats are cool\n",
      "dogs are cool\n",
      "lions are cool\n",
      "bears are cool\n"
     ]
    }
   ],
   "source": [
    "cool_animals = ['cat', 'dog', 'lion', 'bear']\n",
    "\n",
    "for animal in cool_animals:\n",
    "    print(animal + \"s are cool\")"
   ]
  },
  {
   "cell_type": "markdown",
   "metadata": {},
   "source": [
    "Loop over a dict:"
   ]
  },
  {
   "cell_type": "code",
   "execution_count": 30,
   "metadata": {},
   "outputs": [
    {
     "name": "stdout",
     "output_type": "stream",
     "text": [
      "The dog says bark!\n",
      "The cat says meow!\n",
      "The pig says oink!\n"
     ]
    }
   ],
   "source": [
    "animal_sounds = {\n",
    "    'dog': 'bark',\n",
    "    'cat': 'meow',\n",
    "    'pig': 'oink'\n",
    "}\n",
    "\n",
    "for animal, sound in animal_sounds.items():\n",
    "    print(\"The \" + animal + \" says \" + sound + \"!\")"
   ]
  },
  {
   "cell_type": "markdown",
   "metadata": {},
   "source": [
    "Congratulations! You made it through the first Notebook. Keep it up!"
   ]
  },
  {
   "cell_type": "markdown",
   "metadata": {},
   "source": [
    "<br>\n",
    "<br> \n",
    "<br>\n",
    "\n",
    "----"
   ]
  }
 ],
 "metadata": {
  "kernelspec": {
   "display_name": "Python 3",
   "language": "python",
   "name": "python3"
  },
  "language_info": {
   "codemirror_mode": {
    "name": "ipython",
    "version": 3
   },
   "file_extension": ".py",
   "mimetype": "text/x-python",
   "name": "python",
   "nbconvert_exporter": "python",
   "pygments_lexer": "ipython3",
   "version": "3.8.8"
  },
  "toc": {
   "base_numbering": 1,
   "nav_menu": {},
   "number_sections": false,
   "sideBar": false,
   "skip_h1_title": false,
   "title_cell": "Table of Contents",
   "title_sidebar": "Contents",
   "toc_cell": true,
   "toc_position": {},
   "toc_section_display": true,
   "toc_window_display": false
  }
 },
 "nbformat": 4,
 "nbformat_minor": 4
}
